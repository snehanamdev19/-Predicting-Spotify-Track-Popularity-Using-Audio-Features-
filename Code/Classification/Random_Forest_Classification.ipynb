{
 "cells": [
  {
   "cell_type": "code",
   "execution_count": 1,
   "id": "818a14c9",
   "metadata": {
    "ExecuteTime": {
     "end_time": "2021-04-11T07:29:23.352311Z",
     "start_time": "2021-04-11T07:29:22.703518Z"
    }
   },
   "outputs": [],
   "source": [
    "import pandas as pd\n",
    "import numpy as np\n",
    "from matplotlib import pyplot as plt\n",
    "from sklearn.model_selection import train_test_split, GridSearchCV, RandomizedSearchCV\n",
    "from sklearn.feature_selection import SelectKBest, mutual_info_classif, f_classif\n",
    "from sklearn.metrics import classification_report, confusion_matrix\n",
    "from sklearn.model_selection import cross_val_score\n",
    "from sklearn.ensemble import RandomForestClassifier, ExtraTreesClassifier"
   ]
  },
  {
   "cell_type": "markdown",
   "id": "9f152219",
   "metadata": {},
   "source": [
    "### Loading the modified dataset"
   ]
  },
  {
   "cell_type": "code",
   "execution_count": 2,
   "id": "9a532c4f",
   "metadata": {
    "ExecuteTime": {
     "end_time": "2021-04-11T07:29:29.158666Z",
     "start_time": "2021-04-11T07:29:27.420517Z"
    }
   },
   "outputs": [],
   "source": [
    "df = pd.read_csv('dataset/data_merged.csv')\n",
    "#list(df.columns)\n",
    "#del df['mode']\n",
    "#del df['key_6_yr']\n",
    "#del df['popularity_yr']\n",
    "#del df['popularity_ar']"
   ]
  },
  {
   "cell_type": "code",
   "execution_count": 3,
   "id": "a542e9b1",
   "metadata": {
    "ExecuteTime": {
     "end_time": "2021-04-11T07:30:48.915406Z",
     "start_time": "2021-04-11T07:30:48.874225Z"
    }
   },
   "outputs": [
    {
     "data": {
      "text/html": [
       "<div>\n",
       "<style scoped>\n",
       "    .dataframe tbody tr th:only-of-type {\n",
       "        vertical-align: middle;\n",
       "    }\n",
       "\n",
       "    .dataframe tbody tr th {\n",
       "        vertical-align: top;\n",
       "    }\n",
       "\n",
       "    .dataframe thead th {\n",
       "        text-align: right;\n",
       "    }\n",
       "</style>\n",
       "<table border=\"1\" class=\"dataframe\">\n",
       "  <thead>\n",
       "    <tr style=\"text-align: right;\">\n",
       "      <th></th>\n",
       "      <th>acousticness</th>\n",
       "      <th>danceability</th>\n",
       "      <th>duration_ms</th>\n",
       "      <th>energy</th>\n",
       "      <th>explicit</th>\n",
       "      <th>instrumentalness</th>\n",
       "      <th>liveness</th>\n",
       "      <th>loudness</th>\n",
       "      <th>popularity</th>\n",
       "      <th>speechiness</th>\n",
       "      <th>...</th>\n",
       "      <th>valence_yr</th>\n",
       "      <th>popularity_yr</th>\n",
       "      <th>mode</th>\n",
       "      <th>key_0_yr</th>\n",
       "      <th>key_1_yr</th>\n",
       "      <th>key_2_yr</th>\n",
       "      <th>key_3_yr</th>\n",
       "      <th>key_4_yr</th>\n",
       "      <th>key_5_yr</th>\n",
       "      <th>key_6_yr</th>\n",
       "    </tr>\n",
       "  </thead>\n",
       "  <tbody>\n",
       "    <tr>\n",
       "      <th>0</th>\n",
       "      <td>0.0131</td>\n",
       "      <td>0.2560</td>\n",
       "      <td>182347</td>\n",
       "      <td>0.895</td>\n",
       "      <td>0</td>\n",
       "      <td>0.000106</td>\n",
       "      <td>0.0821</td>\n",
       "      <td>-4.860</td>\n",
       "      <td>29</td>\n",
       "      <td>0.0707</td>\n",
       "      <td>...</td>\n",
       "      <td>0.583424</td>\n",
       "      <td>35.272231</td>\n",
       "      <td>1</td>\n",
       "      <td>0</td>\n",
       "      <td>0</td>\n",
       "      <td>1</td>\n",
       "      <td>0</td>\n",
       "      <td>0</td>\n",
       "      <td>0</td>\n",
       "      <td>0</td>\n",
       "    </tr>\n",
       "    <tr>\n",
       "      <th>1</th>\n",
       "      <td>0.9800</td>\n",
       "      <td>0.2770</td>\n",
       "      <td>206972</td>\n",
       "      <td>0.145</td>\n",
       "      <td>0</td>\n",
       "      <td>0.879000</td>\n",
       "      <td>0.1110</td>\n",
       "      <td>-19.898</td>\n",
       "      <td>0</td>\n",
       "      <td>0.0845</td>\n",
       "      <td>...</td>\n",
       "      <td>0.432251</td>\n",
       "      <td>3.672500</td>\n",
       "      <td>1</td>\n",
       "      <td>1</td>\n",
       "      <td>0</td>\n",
       "      <td>0</td>\n",
       "      <td>0</td>\n",
       "      <td>0</td>\n",
       "      <td>0</td>\n",
       "      <td>0</td>\n",
       "    </tr>\n",
       "    <tr>\n",
       "      <th>2</th>\n",
       "      <td>0.7950</td>\n",
       "      <td>0.6850</td>\n",
       "      <td>314667</td>\n",
       "      <td>0.483</td>\n",
       "      <td>0</td>\n",
       "      <td>0.878000</td>\n",
       "      <td>0.1130</td>\n",
       "      <td>-10.202</td>\n",
       "      <td>1</td>\n",
       "      <td>0.0337</td>\n",
       "      <td>...</td>\n",
       "      <td>0.447291</td>\n",
       "      <td>7.707000</td>\n",
       "      <td>1</td>\n",
       "      <td>0</td>\n",
       "      <td>0</td>\n",
       "      <td>0</td>\n",
       "      <td>1</td>\n",
       "      <td>0</td>\n",
       "      <td>0</td>\n",
       "      <td>0</td>\n",
       "    </tr>\n",
       "    <tr>\n",
       "      <th>3</th>\n",
       "      <td>0.6560</td>\n",
       "      <td>0.7880</td>\n",
       "      <td>179747</td>\n",
       "      <td>0.808</td>\n",
       "      <td>0</td>\n",
       "      <td>0.000000</td>\n",
       "      <td>0.1540</td>\n",
       "      <td>-6.590</td>\n",
       "      <td>0</td>\n",
       "      <td>0.0395</td>\n",
       "      <td>...</td>\n",
       "      <td>0.447291</td>\n",
       "      <td>7.707000</td>\n",
       "      <td>1</td>\n",
       "      <td>0</td>\n",
       "      <td>0</td>\n",
       "      <td>0</td>\n",
       "      <td>1</td>\n",
       "      <td>0</td>\n",
       "      <td>0</td>\n",
       "      <td>0</td>\n",
       "    </tr>\n",
       "    <tr>\n",
       "      <th>4</th>\n",
       "      <td>0.3020</td>\n",
       "      <td>0.0753</td>\n",
       "      <td>498560</td>\n",
       "      <td>0.150</td>\n",
       "      <td>0</td>\n",
       "      <td>0.884000</td>\n",
       "      <td>0.1210</td>\n",
       "      <td>-16.705</td>\n",
       "      <td>0</td>\n",
       "      <td>0.0371</td>\n",
       "      <td>...</td>\n",
       "      <td>0.443625</td>\n",
       "      <td>3.419500</td>\n",
       "      <td>1</td>\n",
       "      <td>1</td>\n",
       "      <td>0</td>\n",
       "      <td>0</td>\n",
       "      <td>0</td>\n",
       "      <td>0</td>\n",
       "      <td>0</td>\n",
       "      <td>0</td>\n",
       "    </tr>\n",
       "  </tbody>\n",
       "</table>\n",
       "<p>5 rows × 72 columns</p>\n",
       "</div>"
      ],
      "text/plain": [
       "   acousticness  danceability  duration_ms  energy  explicit  \\\n",
       "0        0.0131        0.2560       182347   0.895         0   \n",
       "1        0.9800        0.2770       206972   0.145         0   \n",
       "2        0.7950        0.6850       314667   0.483         0   \n",
       "3        0.6560        0.7880       179747   0.808         0   \n",
       "4        0.3020        0.0753       498560   0.150         0   \n",
       "\n",
       "   instrumentalness  liveness  loudness  popularity  speechiness  ...  \\\n",
       "0          0.000106    0.0821    -4.860          29       0.0707  ...   \n",
       "1          0.879000    0.1110   -19.898           0       0.0845  ...   \n",
       "2          0.878000    0.1130   -10.202           1       0.0337  ...   \n",
       "3          0.000000    0.1540    -6.590           0       0.0395  ...   \n",
       "4          0.884000    0.1210   -16.705           0       0.0371  ...   \n",
       "\n",
       "   valence_yr  popularity_yr  mode  key_0_yr  key_1_yr  key_2_yr  key_3_yr  \\\n",
       "0    0.583424      35.272231     1         0         0         1         0   \n",
       "1    0.432251       3.672500     1         1         0         0         0   \n",
       "2    0.447291       7.707000     1         0         0         0         1   \n",
       "3    0.447291       7.707000     1         0         0         0         1   \n",
       "4    0.443625       3.419500     1         1         0         0         0   \n",
       "\n",
       "   key_4_yr  key_5_yr  key_6_yr  \n",
       "0         0         0         0  \n",
       "1         0         0         0  \n",
       "2         0         0         0  \n",
       "3         0         0         0  \n",
       "4         0         0         0  \n",
       "\n",
       "[5 rows x 72 columns]"
      ]
     },
     "execution_count": 3,
     "metadata": {},
     "output_type": "execute_result"
    }
   ],
   "source": [
    "df.head()"
   ]
  },
  {
   "cell_type": "code",
   "execution_count": 5,
   "id": "d68b3f23",
   "metadata": {
    "ExecuteTime": {
     "end_time": "2021-04-11T07:30:57.628792Z",
     "start_time": "2021-04-11T07:30:57.234557Z"
    }
   },
   "outputs": [],
   "source": [
    "# Separating columns containing features and output. Also, changing values in the output\n",
    "# to labels 1 (popular) and 0 (not popular) using threshold arrived at from Billboard charts. \n",
    "X = df[df.columns.difference(['popularity'])]\n",
    "y = pd.cut(x=df[\"popularity\"], bins=[-1,42,100], labels=[0,1])\n",
    "\n",
    "# Splitting data in to test and train sets\n",
    "X_train, X_test, y_train, y_test = train_test_split(X, y, test_size=0.2, stratify=y, random_state=42)"
   ]
  },
  {
   "cell_type": "markdown",
   "id": "2648eb28",
   "metadata": {},
   "source": [
    "### Trial Random Forest"
   ]
  },
  {
   "cell_type": "code",
   "execution_count": 8,
   "id": "81a4fcb9",
   "metadata": {},
   "outputs": [
    {
     "name": "stdout",
     "output_type": "stream",
     "text": [
      "\u001b[1mClassification Report\n",
      "\u001b[0m\n",
      "              precision    recall  f1-score   support\n",
      "\n",
      "           0       0.90      0.96      0.93     25942\n",
      "           1       0.85      0.69      0.76      8504\n",
      "\n",
      "    accuracy                           0.89     34446\n",
      "   macro avg       0.88      0.82      0.85     34446\n",
      "weighted avg       0.89      0.89      0.89     34446\n",
      "\n",
      "\u001b[1mConfusion Matrix\n",
      "\u001b[0m\n",
      "[[24908  1034]\n",
      " [ 2639  5865]]\n"
     ]
    }
   ],
   "source": [
    "# Initializing and training the Random Forest Classifier with default hyperparameters. \n",
    "rnd_clf=RandomForestClassifier(n_jobs=-1) # n_jobs=-1 uses all cores of the CPU\n",
    "rnd_clf.fit(X_train, y_train)\n",
    "\n",
    "# Prediction on test data.\n",
    "y_pred_rf=rnd_clf.predict(X_test)\n",
    "\n",
    "print('\\033[1mClassification Report')\n",
    "print('\\033[0m')\n",
    "print(classification_report(y_test, y_pred_rf))\n",
    "\n",
    "print('\\033[1mConfusion Matrix')\n",
    "print('\\033[0m')\n",
    "print(confusion_matrix(y_test, y_pred_rf))"
   ]
  },
  {
   "cell_type": "markdown",
   "id": "de13e1d3",
   "metadata": {},
   "source": [
    "### Extra Trees Classifier\n",
    "We can also try to use the ExtraTreesClassifier which randomizes the number of features used to split each node. We see that the performance is slightly worse than using just a Random Forest. "
   ]
  },
  {
   "cell_type": "code",
   "execution_count": 9,
   "id": "1dc2551f",
   "metadata": {},
   "outputs": [
    {
     "name": "stdout",
     "output_type": "stream",
     "text": [
      "\u001b[1mClassification Report\n",
      "\u001b[0m\n",
      "              precision    recall  f1-score   support\n",
      "\n",
      "           0       0.90      0.95      0.93     25942\n",
      "           1       0.82      0.68      0.74      8504\n",
      "\n",
      "    accuracy                           0.88     34446\n",
      "   macro avg       0.86      0.82      0.83     34446\n",
      "weighted avg       0.88      0.88      0.88     34446\n",
      "\n",
      "\u001b[1mConfusion Matrix\n",
      "\u001b[0m\n",
      "[[24699  1243]\n",
      " [ 2735  5769]]\n"
     ]
    }
   ],
   "source": [
    "ext_clf=ExtraTreesClassifier(n_jobs=-1)\n",
    "ext_clf.fit(X_train, y_train)\n",
    "y_pred_ext=ext_clf.predict(X_test)\n",
    "\n",
    "print('\\033[1mClassification Report')\n",
    "print('\\033[0m')\n",
    "print(classification_report(y_test, y_pred_ext))\n",
    "\n",
    "print('\\033[1mConfusion Matrix')\n",
    "print('\\033[0m')\n",
    "print(confusion_matrix(y_test, y_pred_ext))"
   ]
  },
  {
   "cell_type": "markdown",
   "id": "042ccddf",
   "metadata": {},
   "source": [
    "### Randomized Grid Search\n",
    "Next step is to perform randomized grid search to find optimal hyperparameters. "
   ]
  },
  {
   "cell_type": "code",
   "execution_count": 27,
   "id": "ab096747",
   "metadata": {},
   "outputs": [],
   "source": [
    "# Initializing a set of hyperparameters. Randomized Grid Search will then iterate through random combinations of these\n",
    "# to find optimal parameters.\n",
    "\n",
    "n_estimators = [int(x) for x in np.linspace(start = 200, stop = 1000, num = 5)] # Number of Decisions Trees in the forest\n",
    "max_features = ['auto', 'sqrt']                                                 # Max features used to split at each node\n",
    "max_depth = np.linspace(20,100,5).tolist()                                      # Max depth of each tree\n",
    "max_depth.append(None) \n",
    "bootstrap = [True, False]\n",
    "min_samples_split = [2, 5, 10]                                                  # Minimum samples required to split at a node\n",
    "min_samples_leaf = [1, 2, 4]                                                    # Minimum samples required for a leaf node"
   ]
  },
  {
   "cell_type": "code",
   "execution_count": 28,
   "id": "4eaa04da",
   "metadata": {},
   "outputs": [],
   "source": [
    "# Parameter Grid\n",
    "random_grid = {'n_estimators': n_estimators,\n",
    "               'max_features': max_features,\n",
    "               'max_depth': max_depth,\n",
    "               'min_samples_split': min_samples_split,\n",
    "               'min_samples_leaf': min_samples_leaf,\n",
    "               'bootstrap': bootstrap}"
   ]
  },
  {
   "cell_type": "code",
   "execution_count": 32,
   "id": "49e0dedb",
   "metadata": {},
   "outputs": [
    {
     "name": "stdout",
     "output_type": "stream",
     "text": [
      "Fitting 3 folds for each of 100 candidates, totalling 300 fits\n"
     ]
    },
    {
     "name": "stderr",
     "output_type": "stream",
     "text": [
      "[Parallel(n_jobs=-1)]: Using backend LokyBackend with 12 concurrent workers.\n",
      "[Parallel(n_jobs=-1)]: Done  17 tasks      | elapsed:  9.2min\n",
      "[Parallel(n_jobs=-1)]: Done 138 tasks      | elapsed: 61.6min\n",
      "[Parallel(n_jobs=-1)]: Done 300 out of 300 | elapsed: 131.5min finished\n"
     ]
    },
    {
     "data": {
      "text/plain": [
       "RandomizedSearchCV(cv=3, estimator=RandomForestClassifier(random_state=42),\n",
       "                   n_iter=100, n_jobs=-1,\n",
       "                   param_distributions={'bootstrap': [True, False],\n",
       "                                        'max_depth': [20.0, 40.0, 60.0, 80.0,\n",
       "                                                      100.0, None],\n",
       "                                        'max_features': ['auto', 'sqrt'],\n",
       "                                        'min_samples_leaf': [1, 2, 4],\n",
       "                                        'min_samples_split': [2, 5, 10],\n",
       "                                        'n_estimators': [200, 400, 600, 800,\n",
       "                                                         1000]},\n",
       "                   random_state=42, verbose=2)"
      ]
     },
     "execution_count": 32,
     "metadata": {},
     "output_type": "execute_result"
    }
   ],
   "source": [
    "# Running the Randomized Grid Search. \n",
    "rfc=RandomForestClassifier(random_state=42)\n",
    "random_rfc = RandomizedSearchCV(estimator = rfc, param_distributions = random_grid, n_iter = 100, cv = 3, verbose=2, \n",
    "                                random_state=42, n_jobs = -1)\n",
    "random_rfc.fit(X_train, y_train)"
   ]
  },
  {
   "cell_type": "code",
   "execution_count": 11,
   "id": "64738a53",
   "metadata": {},
   "outputs": [
    {
     "name": "stdout",
     "output_type": "stream",
     "text": [
      "\u001b[1mBest Parameters\n",
      "\u001b[0m\n"
     ]
    },
    {
     "ename": "NameError",
     "evalue": "name 'random_rfc' is not defined",
     "output_type": "error",
     "traceback": [
      "\u001b[1;31m---------------------------------------------------------------------------\u001b[0m",
      "\u001b[1;31mNameError\u001b[0m                                 Traceback (most recent call last)",
      "\u001b[1;32m<ipython-input-11-72f16f7ee64a>\u001b[0m in \u001b[0;36m<module>\u001b[1;34m\u001b[0m\n\u001b[0;32m      1\u001b[0m \u001b[0mprint\u001b[0m\u001b[1;33m(\u001b[0m\u001b[1;34m'\\033[1mBest Parameters'\u001b[0m\u001b[1;33m)\u001b[0m\u001b[1;33m\u001b[0m\u001b[1;33m\u001b[0m\u001b[0m\n\u001b[0;32m      2\u001b[0m \u001b[0mprint\u001b[0m\u001b[1;33m(\u001b[0m\u001b[1;34m'\\033[0m'\u001b[0m\u001b[1;33m)\u001b[0m\u001b[1;33m\u001b[0m\u001b[1;33m\u001b[0m\u001b[0m\n\u001b[1;32m----> 3\u001b[1;33m \u001b[0mrandom_rfc\u001b[0m\u001b[1;33m.\u001b[0m\u001b[0mbest_params_\u001b[0m\u001b[1;33m\u001b[0m\u001b[1;33m\u001b[0m\u001b[0m\n\u001b[0m",
      "\u001b[1;31mNameError\u001b[0m: name 'random_rfc' is not defined"
     ]
    }
   ],
   "source": [
    "print('\\033[1mBest Parameters')\n",
    "print('\\033[0m')\n",
    "random_rfc.best_params_"
   ]
  },
  {
   "cell_type": "markdown",
   "id": "42654513",
   "metadata": {},
   "source": [
    "### Final Run with Best Parameters"
   ]
  },
  {
   "cell_type": "code",
   "execution_count": 6,
   "id": "703d5f92",
   "metadata": {
    "ExecuteTime": {
     "end_time": "2021-04-11T07:32:16.739906Z",
     "start_time": "2021-04-11T07:31:14.060228Z"
    }
   },
   "outputs": [],
   "source": [
    "rnd_clf=RandomForestClassifier(n_estimators=400, max_depth=20, max_features='sqrt', criterion='gini', min_samples_leaf=4,\n",
    "                               min_samples_split=2, bootstrap=False, n_jobs=-1)\n",
    "rnd_clf.fit(X_train, y_train)\n",
    "y_pred_rf=rnd_clf.predict(X_test)"
   ]
  },
  {
   "cell_type": "code",
   "execution_count": 7,
   "id": "2543f579",
   "metadata": {
    "ExecuteTime": {
     "end_time": "2021-04-11T07:32:39.743680Z",
     "start_time": "2021-04-11T07:32:38.957260Z"
    }
   },
   "outputs": [
    {
     "data": {
      "text/plain": [
       "['Saved models/RFC']"
      ]
     },
     "execution_count": 7,
     "metadata": {},
     "output_type": "execute_result"
    }
   ],
   "source": [
    "from joblib import dump\n",
    "dump(rnd_clf, \"Saved models/RFC\")"
   ]
  },
  {
   "cell_type": "code",
   "execution_count": 8,
   "id": "800eb804",
   "metadata": {
    "ExecuteTime": {
     "end_time": "2021-04-11T07:32:43.734462Z",
     "start_time": "2021-04-11T07:32:43.680128Z"
    },
    "scrolled": true
   },
   "outputs": [
    {
     "name": "stdout",
     "output_type": "stream",
     "text": [
      "\u001b[1mClassification Report\n",
      "\u001b[0m\n",
      "              precision    recall  f1-score   support\n",
      "\n",
      "           0       0.91      0.96      0.93     25874\n",
      "           1       0.87      0.70      0.78      8572\n",
      "\n",
      "    accuracy                           0.90     34446\n",
      "   macro avg       0.89      0.83      0.86     34446\n",
      "weighted avg       0.90      0.90      0.90     34446\n",
      "\n"
     ]
    }
   ],
   "source": [
    "print('\\033[1mClassification Report')\n",
    "print('\\033[0m')\n",
    "print(classification_report(y_test, y_pred_rf))"
   ]
  },
  {
   "cell_type": "code",
   "execution_count": 9,
   "id": "1608c049",
   "metadata": {
    "ExecuteTime": {
     "end_time": "2021-04-11T07:33:38.014157Z",
     "start_time": "2021-04-11T07:33:37.234153Z"
    }
   },
   "outputs": [
    {
     "data": {
      "text/plain": [
       "0.9453353978689432"
      ]
     },
     "execution_count": 9,
     "metadata": {},
     "output_type": "execute_result"
    }
   ],
   "source": [
    "from sklearn.metrics import roc_curve, roc_auc_score\n",
    "# predict probabilities\n",
    "lr_probs = rnd_clf.predict_proba(X_test)\n",
    "# keep probabilities for the positive outcome only\n",
    "lr_probs = lr_probs[:, 1]\n",
    "# calculate scores\n",
    "lr_auc = roc_auc_score(y_test, lr_probs)\n",
    "lr_auc"
   ]
  },
  {
   "cell_type": "code",
   "execution_count": 10,
   "id": "6ec254da",
   "metadata": {
    "ExecuteTime": {
     "end_time": "2021-04-11T07:35:15.607950Z",
     "start_time": "2021-04-11T07:35:15.420977Z"
    }
   },
   "outputs": [
    {
     "data": {
      "image/png": "[encoded data removed]",
      "text/plain": [
       "<Figure size 432x288 with 1 Axes>"
      ]
     },
     "metadata": {
      "needs_background": "light"
     },
     "output_type": "display_data"
    }
   ],
   "source": [
    "from matplotlib import pyplot\n",
    "from numpy import sqrt, argmax, save\n",
    "import numpy as np\n",
    "# calculate roc curves\n",
    "fpr, tpr, thresholds = roc_curve(y_test, lr_probs)\n",
    "np.save(\"fpr_RFC\", fpr)\n",
    "np.save(\"tpr_RFC\", tpr)\n",
    "# plot the roc curve for the model\n",
    "pyplot.plot([0,1], [0,1], linestyle='--', label='No Skill')\n",
    "pyplot.plot(fpr, tpr, marker='.', label='Logistic')\n",
    "# axis labels\n",
    "pyplot.xlabel('False Positive Rate')\n",
    "pyplot.ylabel('True Positive Rate')\n",
    "pyplot.legend()\n",
    "# show the plot\n",
    "pyplot.show()"
   ]
  },
  {
   "cell_type": "code",
   "execution_count": 12,
   "id": "d925398c",
   "metadata": {
    "ExecuteTime": {
     "end_time": "2021-04-11T07:37:00.724948Z",
     "start_time": "2021-04-11T07:37:00.536758Z"
    }
   },
   "outputs": [
    {
     "name": "stdout",
     "output_type": "stream",
     "text": [
      "SVM: f1=0.777 auc=0.883\n",
      "0.24885327759391512\n"
     ]
    },
    {
     "data": {
      "image/png": "[encoded data removed]",
      "text/plain": [
       "<Figure size 432x288 with 1 Axes>"
      ]
     },
     "metadata": {
      "needs_background": "light"
     },
     "output_type": "display_data"
    }
   ],
   "source": [
    "from sklearn.metrics import auc, precision_recall_curve, f1_score\n",
    "from matplotlib import pyplot\n",
    "lr_precision, lr_recall, thresholds = precision_recall_curve(y_test, lr_probs)\n",
    "np.save(\"lrp_RFC\", lr_precision)\n",
    "np.save(\"lrr_RFC\", lr_recall)\n",
    "lr_f1, lr_auc = f1_score(y_test, y_pred_rf), auc(lr_recall, lr_precision)\n",
    "# summarize scores\n",
    "print('SVM: f1=%.3f auc=%.3f' % (lr_f1, lr_auc))\n",
    "fscore = (2 * lr_precision * lr_recall) / (lr_precision + lr_recall)\n",
    "# plot the roc curve for the model\n",
    "no_skill = len(y_test[y_test==1]) / len(y_test)\n",
    "print(no_skill)\n",
    "pyplot.plot([0,1], [no_skill,no_skill], linestyle='--', label='No Skill')\n",
    "pyplot.plot(lr_recall, lr_precision, marker='.', label='Logistic')\n",
    "# axis labels\n",
    "pyplot.xlabel('Recall')\n",
    "pyplot.ylabel('Precision')\n",
    "pyplot.legend()\n",
    "# show the plot\n",
    "pyplot.show()"
   ]
  }
 ],
 "metadata": {
  "kernelspec": {
   "display_name": "Python 3",
   "language": "python",
   "name": "python3"
  },
  "language_info": {
   "codemirror_mode": {
    "name": "ipython",
    "version": 3
   },
   "file_extension": ".py",
   "mimetype": "text/x-python",
   "name": "python",
   "nbconvert_exporter": "python",
   "pygments_lexer": "ipython3",
   "version": "3.8.5"
  },
  "toc": {
   "base_numbering": 1,
   "nav_menu": {},
   "number_sections": true,
   "sideBar": true,
   "skip_h1_title": false,
   "title_cell": "Table of Contents",
   "title_sidebar": "Contents",
   "toc_cell": false,
   "toc_position": {},
   "toc_section_display": true,
   "toc_window_display": false
  },
  "varInspector": {
   "cols": {
    "lenName": 16,
    "lenType": 16,
    "lenVar": 40
   },
   "kernels_config": {
    "python": {
     "delete_cmd_postfix": "",
     "delete_cmd_prefix": "del ",
     "library": "var_list.py",
     "varRefreshCmd": "print(var_dic_list())"
    },
    "r": {
     "delete_cmd_postfix": ") ",
     "delete_cmd_prefix": "rm(",
     "library": "var_list.r",
     "varRefreshCmd": "cat(var_dic_list()) "
    }
   },
   "types_to_exclude": [
    "module",
    "function",
    "builtin_function_or_method",
    "instance",
    "_Feature"
   ],
   "window_display": false
  }
 },
 "nbformat": 4,
 "nbformat_minor": 5
}
