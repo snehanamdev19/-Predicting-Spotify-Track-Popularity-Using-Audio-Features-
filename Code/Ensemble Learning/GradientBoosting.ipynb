{
 "cells": [
  {
   "cell_type": "markdown",
   "id": "ed4a2533",
   "metadata": {},
   "source": [
    "# Histogram based Gradient Boosting"
   ]
  },
  {
   "cell_type": "markdown",
   "id": "0324feb5",
   "metadata": {},
   "source": [
    "## Import required libraries"
   ]
  },
  {
   "cell_type": "code",
   "execution_count": 1,
   "id": "ea736709",
   "metadata": {
    "ExecuteTime": {
     "end_time": "2021-04-11T09:05:50.087169Z",
     "start_time": "2021-04-11T09:05:49.390556Z"
    }
   },
   "outputs": [],
   "source": [
    "from sklearn.experimental import enable_hist_gradient_boosting\n",
    "from sklearn.ensemble import HistGradientBoostingClassifier\n",
    "import pandas as pd\n",
    "from sklearn.model_selection import train_test_split\n",
    "import numpy as np\n",
    "from sklearn.metrics import accuracy_score\n",
    "from sklearn.metrics import confusion_matrix, classification_report"
   ]
  },
  {
   "cell_type": "markdown",
   "id": "6f9ea5ff",
   "metadata": {},
   "source": [
    "## Load dataset and discretize popularity"
   ]
  },
  {
   "cell_type": "code",
   "execution_count": 2,
   "id": "38f2c596",
   "metadata": {
    "ExecuteTime": {
     "end_time": "2021-04-11T09:05:58.606873Z",
     "start_time": "2021-04-11T09:05:57.129767Z"
    }
   },
   "outputs": [
    {
     "data": {
      "text/plain": [
       "0    0\n",
       "1    0\n",
       "2    0\n",
       "3    0\n",
       "4    0\n",
       "Name: popularity, dtype: int64"
      ]
     },
     "execution_count": 2,
     "metadata": {},
     "output_type": "execute_result"
    }
   ],
   "source": [
    "df = pd.read_csv('../../Dataset/data_merged.csv')\n",
    "mean_popularity = 42\n",
    "df[\"popularity\"] = [ 1 if i >= mean_popularity else 0 for i in df.popularity ]\n",
    "df[\"popularity\"].head()"
   ]
  },
  {
   "cell_type": "markdown",
   "id": "0b7f75a4",
   "metadata": {},
   "source": [
    "## Split features, labels and train-test data"
   ]
  },
  {
   "cell_type": "code",
   "execution_count": 3,
   "id": "25614900",
   "metadata": {
    "ExecuteTime": {
     "end_time": "2021-04-11T09:06:01.137681Z",
     "start_time": "2021-04-11T09:06:01.084080Z"
    }
   },
   "outputs": [],
   "source": [
    "X  = df.drop(['popularity'], axis=1)\n",
    "y = df['popularity']"
   ]
  },
  {
   "cell_type": "code",
   "execution_count": 4,
   "id": "cd72806e",
   "metadata": {
    "ExecuteTime": {
     "end_time": "2021-04-11T09:08:35.875905Z",
     "start_time": "2021-04-11T09:08:35.738685Z"
    }
   },
   "outputs": [],
   "source": [
    "X_train, X_test, y_train, y_test = train_test_split(X, y, test_size=0.20, random_state=21)"
   ]
  },
  {
   "cell_type": "markdown",
   "id": "b14932e6",
   "metadata": {},
   "source": [
    "## Histogram based gradient-boosting"
   ]
  },
  {
   "cell_type": "code",
   "execution_count": 88,
   "id": "593ddd16",
   "metadata": {},
   "outputs": [],
   "source": [
    "gb_clf = HistGradientBoostingClassifier(loss='binary_crossentropy', max_iter=1000)"
   ]
  },
  {
   "cell_type": "code",
   "execution_count": 89,
   "id": "06d04968",
   "metadata": {},
   "outputs": [
    {
     "data": {
      "text/plain": [
       "HistGradientBoostingClassifier(loss='binary_crossentropy', max_iter=1000)"
      ]
     },
     "execution_count": 89,
     "metadata": {},
     "output_type": "execute_result"
    }
   ],
   "source": [
    "gb_clf.fit(X_train, y_train)"
   ]
  },
  {
   "cell_type": "code",
   "execution_count": 90,
   "id": "9853da54",
   "metadata": {},
   "outputs": [
    {
     "data": {
      "text/plain": [
       "0.8991247169482669"
      ]
     },
     "execution_count": 90,
     "metadata": {},
     "output_type": "execute_result"
    }
   ],
   "source": [
    "gb_clf.score(X_train, y_train)"
   ]
  },
  {
   "cell_type": "code",
   "execution_count": 91,
   "id": "a3367f56",
   "metadata": {},
   "outputs": [
    {
     "data": {
      "text/plain": [
       "0.8895953085989665"
      ]
     },
     "execution_count": 91,
     "metadata": {},
     "output_type": "execute_result"
    }
   ],
   "source": [
    "gb_clf.score(X_test, y_test)"
   ]
  },
  {
   "cell_type": "code",
   "execution_count": 92,
   "id": "a4947376",
   "metadata": {},
   "outputs": [],
   "source": [
    "y_pred = gb_clf.predict(X_test)"
   ]
  },
  {
   "cell_type": "code",
   "execution_count": 93,
   "id": "0c960c49",
   "metadata": {},
   "outputs": [
    {
     "name": "stdout",
     "output_type": "stream",
     "text": [
      "[[24345  1086]\n",
      " [ 2717  6298]]\n",
      "Classification report\n",
      "\n",
      "              precision    recall  f1-score   support\n",
      "\n",
      "           0       0.90      0.96      0.93     25431\n",
      "           1       0.85      0.70      0.77      9015\n",
      "\n",
      "    accuracy                           0.89     34446\n",
      "   macro avg       0.88      0.83      0.85     34446\n",
      "weighted avg       0.89      0.89      0.89     34446\n",
      "\n"
     ]
    }
   ],
   "source": [
    "print(confusion_matrix(y_test, y_pred))\n",
    "print(\"Classification report\\n\")\n",
    "print(classification_report(y_test, y_pred))"
   ]
  },
  {
   "cell_type": "markdown",
   "id": "26f7cdd5",
   "metadata": {},
   "source": [
    "## Bayesian Search"
   ]
  },
  {
   "cell_type": "code",
   "execution_count": 5,
   "id": "d81f431f",
   "metadata": {
    "ExecuteTime": {
     "end_time": "2021-04-11T09:09:07.660727Z",
     "start_time": "2021-04-11T09:09:07.315021Z"
    }
   },
   "outputs": [],
   "source": [
    "from skopt import BayesSearchCV\n",
    "from skopt.space import Real, Categorical, Integer\n",
    "from skopt.plots import plot_objective\n",
    "from matplotlib import pyplot as plt"
   ]
  },
  {
   "cell_type": "code",
   "execution_count": 6,
   "id": "971f27a0",
   "metadata": {
    "ExecuteTime": {
     "end_time": "2021-04-11T09:09:09.811124Z",
     "start_time": "2021-04-11T09:09:09.799996Z"
    }
   },
   "outputs": [],
   "source": [
    "opt = BayesSearchCV(\n",
    "    HistGradientBoostingClassifier(random_state=42),\n",
    "    {\n",
    "        'max_iter' : Integer(100, 200),\n",
    "        'learning_rate' : Real(0.01, 1),\n",
    "        'max_leaf_nodes' : Integer(10,100),\n",
    "        'min_samples_leaf' : Integer(10,100),\n",
    "#         'C': (1e-6, 1e+6, 'log-uniform'),\n",
    "#         'gamma': (1e-6, 1e+1, 'log-uniform'),\n",
    "#         'degree': (1, 8),  # integer valued parameter\n",
    "#         'kernel': ['linear', 'poly', 'rbf'],  # categorical parameter\n",
    "    },\n",
    "    n_iter=128,\n",
    "    cv=3\n",
    ")"
   ]
  },
  {
   "cell_type": "code",
   "execution_count": null,
   "id": "04e834ce",
   "metadata": {
    "ExecuteTime": {
     "start_time": "2021-04-11T09:10:57.858Z"
    }
   },
   "outputs": [],
   "source": [
    "opt.fit(X_train, y_train)\n",
    "\n",
    "from joblib import dump\n",
    "dump(opt, \"Saved models/GradBoost\")"
   ]
  },
  {
   "cell_type": "markdown",
   "id": "9adc073e",
   "metadata": {},
   "source": [
    "## Best parameters and scores obtained"
   ]
  },
  {
   "cell_type": "code",
   "execution_count": 97,
   "id": "a58cb6e1",
   "metadata": {},
   "outputs": [
    {
     "name": "stdout",
     "output_type": "stream",
     "text": [
      "val. score: 0.89182343378041\n",
      "test score: 0.8911049178424201\n",
      "best params: OrderedDict([('learning_rate', 0.060833085502393476), ('max_iter', 200), ('max_leaf_nodes', 100), ('min_samples_leaf', 78)])\n"
     ]
    }
   ],
   "source": [
    "print(\"val. score: %s\" % opt.best_score_)\n",
    "print(\"test score: %s\" % opt.score(X_test, y_test))\n",
    "print(\"best params: %s\" % str(opt.best_params_))"
   ]
  },
  {
   "cell_type": "code",
   "execution_count": 98,
   "id": "5c8c2046",
   "metadata": {},
   "outputs": [],
   "source": [
    "y_pred = opt.predict(X_test)"
   ]
  },
  {
   "cell_type": "code",
   "execution_count": 99,
   "id": "e4902d07",
   "metadata": {},
   "outputs": [
    {
     "name": "stdout",
     "output_type": "stream",
     "text": [
      "[[24379  1052]\n",
      " [ 2699  6316]]\n",
      "Classification report\n",
      "\n",
      "              precision    recall  f1-score   support\n",
      "\n",
      "           0       0.90      0.96      0.93     25431\n",
      "           1       0.86      0.70      0.77      9015\n",
      "\n",
      "    accuracy                           0.89     34446\n",
      "   macro avg       0.88      0.83      0.85     34446\n",
      "weighted avg       0.89      0.89      0.89     34446\n",
      "\n"
     ]
    }
   ],
   "source": [
    "print(confusion_matrix(y_test, y_pred))\n",
    "print(\"Classification report\\n\")\n",
    "print(classification_report(y_test, y_pred))"
   ]
  },
  {
   "cell_type": "markdown",
   "id": "ffc57b5b",
   "metadata": {},
   "source": [
    "On increasing number of iterations, max_leaf_nodes, min_samples_leaf etc., learning rate automatically goes down and results remain the same more or less."
   ]
  },
  {
   "cell_type": "markdown",
   "id": "dad3c717",
   "metadata": {},
   "source": [
    "## Visualize results with partial dependence plots"
   ]
  },
  {
   "cell_type": "code",
   "execution_count": 100,
   "id": "1bf49fe1",
   "metadata": {},
   "outputs": [],
   "source": [
    "# plot_objective(opt.optimizer_results_[0],\n",
    "#                    dimensions=[\"n_estimators\", \"learning_rate\"],\n",
    "#                    n_minimum_search=int(1e8))"
   ]
  }
 ],
 "metadata": {
  "kernelspec": {
   "display_name": "Python 3",
   "language": "python",
   "name": "python3"
  },
  "language_info": {
   "codemirror_mode": {
    "name": "ipython",
    "version": 3
   },
   "file_extension": ".py",
   "mimetype": "text/x-python",
   "name": "python",
   "nbconvert_exporter": "python",
   "pygments_lexer": "ipython3",
   "version": "3.9.2"
  },
  "toc": {
   "base_numbering": 1,
   "nav_menu": {},
   "number_sections": true,
   "sideBar": true,
   "skip_h1_title": false,
   "title_cell": "Table of Contents",
   "title_sidebar": "Contents",
   "toc_cell": false,
   "toc_position": {},
   "toc_section_display": true,
   "toc_window_display": false
  },
  "varInspector": {
   "cols": {
    "lenName": 16,
    "lenType": 16,
    "lenVar": 40
   },
   "kernels_config": {
    "python": {
     "delete_cmd_postfix": "",
     "delete_cmd_prefix": "del ",
     "library": "var_list.py",
     "varRefreshCmd": "print(var_dic_list())"
    },
    "r": {
     "delete_cmd_postfix": ") ",
     "delete_cmd_prefix": "rm(",
     "library": "var_list.r",
     "varRefreshCmd": "cat(var_dic_list()) "
    }
   },
   "types_to_exclude": [
    "module",
    "function",
    "builtin_function_or_method",
    "instance",
    "_Feature"
   ],
   "window_display": false
  }
 },
 "nbformat": 4,
 "nbformat_minor": 5
}
