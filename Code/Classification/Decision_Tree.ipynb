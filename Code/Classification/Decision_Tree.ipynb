{
 "cells": [
  {
   "cell_type": "markdown",
   "metadata": {
    "ExecuteTime": {
     "end_time": "2021-04-10T19:43:50.717684Z",
     "start_time": "2021-04-10T19:43:50.163336Z"
    }
   },
   "source": [
    "# Decision Tree Classifier"
   ]
  },
  {
   "cell_type": "code",
   "execution_count": 1,
   "metadata": {
    "ExecuteTime": {
     "end_time": "2021-04-10T19:43:50.717684Z",
     "start_time": "2021-04-10T19:43:50.163336Z"
    }
   },
   "outputs": [],
   "source": [
    "from sklearn.tree import DecisionTreeClassifier\n",
    "import pandas as pd\n",
    "from sklearn.model_selection import train_test_split, GridSearchCV\n",
    "from sklearn.tree import export_graphviz\n",
    "from sklearn import tree\n",
    "from sklearn.metrics import accuracy_score\n",
    "from sklearn.metrics import confusion_matrix, classification_report"
   ]
  },
  {
   "cell_type": "markdown",
   "metadata": {
    "ExecuteTime": {
     "end_time": "2021-04-10T19:43:57.451436Z",
     "start_time": "2021-04-10T19:43:55.857132Z"
    }
   },
   "source": [
    "## Read dataset"
   ]
  },
  {
   "cell_type": "code",
   "execution_count": 2,
   "metadata": {
    "ExecuteTime": {
     "end_time": "2021-04-10T19:43:57.451436Z",
     "start_time": "2021-04-10T19:43:55.857132Z"
    }
   },
   "outputs": [],
   "source": [
    "df = pd.read_csv('dataset/data_merged.csv')\n",
    "mean_popularity = 42\n",
    "df[\"popularity\"] = [ 1 if i >= mean_popularity else 0 for i in df.popularity ]"
   ]
  },
  {
   "cell_type": "code",
   "execution_count": 3,
   "metadata": {
    "ExecuteTime": {
     "end_time": "2021-03-17T02:57:28.380897Z",
     "start_time": "2021-03-17T02:57:28.345865Z"
    }
   },
   "outputs": [
    {
     "data": {
      "text/html": [
       "<div>\n",
       "<style scoped>\n",
       "    .dataframe tbody tr th:only-of-type {\n",
       "        vertical-align: middle;\n",
       "    }\n",
       "\n",
       "    .dataframe tbody tr th {\n",
       "        vertical-align: top;\n",
       "    }\n",
       "\n",
       "    .dataframe thead th {\n",
       "        text-align: right;\n",
       "    }\n",
       "</style>\n",
       "<table border=\"1\" class=\"dataframe\">\n",
       "  <thead>\n",
       "    <tr style=\"text-align: right;\">\n",
       "      <th></th>\n",
       "      <th>acousticness</th>\n",
       "      <th>danceability</th>\n",
       "      <th>duration_ms</th>\n",
       "      <th>energy</th>\n",
       "      <th>explicit</th>\n",
       "      <th>instrumentalness</th>\n",
       "      <th>liveness</th>\n",
       "      <th>loudness</th>\n",
       "      <th>popularity</th>\n",
       "      <th>speechiness</th>\n",
       "      <th>...</th>\n",
       "      <th>valence_yr</th>\n",
       "      <th>popularity_yr</th>\n",
       "      <th>mode</th>\n",
       "      <th>key_0_yr</th>\n",
       "      <th>key_1_yr</th>\n",
       "      <th>key_2_yr</th>\n",
       "      <th>key_3_yr</th>\n",
       "      <th>key_4_yr</th>\n",
       "      <th>key_5_yr</th>\n",
       "      <th>key_6_yr</th>\n",
       "    </tr>\n",
       "  </thead>\n",
       "  <tbody>\n",
       "    <tr>\n",
       "      <th>0</th>\n",
       "      <td>0.0131</td>\n",
       "      <td>0.2560</td>\n",
       "      <td>182347</td>\n",
       "      <td>0.895</td>\n",
       "      <td>0</td>\n",
       "      <td>0.000106</td>\n",
       "      <td>0.0821</td>\n",
       "      <td>-4.860</td>\n",
       "      <td>0</td>\n",
       "      <td>0.0707</td>\n",
       "      <td>...</td>\n",
       "      <td>0.583424</td>\n",
       "      <td>35.272231</td>\n",
       "      <td>1</td>\n",
       "      <td>0</td>\n",
       "      <td>0</td>\n",
       "      <td>1</td>\n",
       "      <td>0</td>\n",
       "      <td>0</td>\n",
       "      <td>0</td>\n",
       "      <td>0</td>\n",
       "    </tr>\n",
       "    <tr>\n",
       "      <th>1</th>\n",
       "      <td>0.9800</td>\n",
       "      <td>0.2770</td>\n",
       "      <td>206972</td>\n",
       "      <td>0.145</td>\n",
       "      <td>0</td>\n",
       "      <td>0.879000</td>\n",
       "      <td>0.1110</td>\n",
       "      <td>-19.898</td>\n",
       "      <td>0</td>\n",
       "      <td>0.0845</td>\n",
       "      <td>...</td>\n",
       "      <td>0.432251</td>\n",
       "      <td>3.672500</td>\n",
       "      <td>1</td>\n",
       "      <td>1</td>\n",
       "      <td>0</td>\n",
       "      <td>0</td>\n",
       "      <td>0</td>\n",
       "      <td>0</td>\n",
       "      <td>0</td>\n",
       "      <td>0</td>\n",
       "    </tr>\n",
       "    <tr>\n",
       "      <th>2</th>\n",
       "      <td>0.7950</td>\n",
       "      <td>0.6850</td>\n",
       "      <td>314667</td>\n",
       "      <td>0.483</td>\n",
       "      <td>0</td>\n",
       "      <td>0.878000</td>\n",
       "      <td>0.1130</td>\n",
       "      <td>-10.202</td>\n",
       "      <td>0</td>\n",
       "      <td>0.0337</td>\n",
       "      <td>...</td>\n",
       "      <td>0.447291</td>\n",
       "      <td>7.707000</td>\n",
       "      <td>1</td>\n",
       "      <td>0</td>\n",
       "      <td>0</td>\n",
       "      <td>0</td>\n",
       "      <td>1</td>\n",
       "      <td>0</td>\n",
       "      <td>0</td>\n",
       "      <td>0</td>\n",
       "    </tr>\n",
       "    <tr>\n",
       "      <th>3</th>\n",
       "      <td>0.6560</td>\n",
       "      <td>0.7880</td>\n",
       "      <td>179747</td>\n",
       "      <td>0.808</td>\n",
       "      <td>0</td>\n",
       "      <td>0.000000</td>\n",
       "      <td>0.1540</td>\n",
       "      <td>-6.590</td>\n",
       "      <td>0</td>\n",
       "      <td>0.0395</td>\n",
       "      <td>...</td>\n",
       "      <td>0.447291</td>\n",
       "      <td>7.707000</td>\n",
       "      <td>1</td>\n",
       "      <td>0</td>\n",
       "      <td>0</td>\n",
       "      <td>0</td>\n",
       "      <td>1</td>\n",
       "      <td>0</td>\n",
       "      <td>0</td>\n",
       "      <td>0</td>\n",
       "    </tr>\n",
       "    <tr>\n",
       "      <th>4</th>\n",
       "      <td>0.3020</td>\n",
       "      <td>0.0753</td>\n",
       "      <td>498560</td>\n",
       "      <td>0.150</td>\n",
       "      <td>0</td>\n",
       "      <td>0.884000</td>\n",
       "      <td>0.1210</td>\n",
       "      <td>-16.705</td>\n",
       "      <td>0</td>\n",
       "      <td>0.0371</td>\n",
       "      <td>...</td>\n",
       "      <td>0.443625</td>\n",
       "      <td>3.419500</td>\n",
       "      <td>1</td>\n",
       "      <td>1</td>\n",
       "      <td>0</td>\n",
       "      <td>0</td>\n",
       "      <td>0</td>\n",
       "      <td>0</td>\n",
       "      <td>0</td>\n",
       "      <td>0</td>\n",
       "    </tr>\n",
       "  </tbody>\n",
       "</table>\n",
       "<p>5 rows × 72 columns</p>\n",
       "</div>"
      ],
      "text/plain": [
       "   acousticness  danceability  duration_ms  energy  explicit  \\\n",
       "0        0.0131        0.2560       182347   0.895         0   \n",
       "1        0.9800        0.2770       206972   0.145         0   \n",
       "2        0.7950        0.6850       314667   0.483         0   \n",
       "3        0.6560        0.7880       179747   0.808         0   \n",
       "4        0.3020        0.0753       498560   0.150         0   \n",
       "\n",
       "   instrumentalness  liveness  loudness  popularity  speechiness  ...  \\\n",
       "0          0.000106    0.0821    -4.860           0       0.0707  ...   \n",
       "1          0.879000    0.1110   -19.898           0       0.0845  ...   \n",
       "2          0.878000    0.1130   -10.202           0       0.0337  ...   \n",
       "3          0.000000    0.1540    -6.590           0       0.0395  ...   \n",
       "4          0.884000    0.1210   -16.705           0       0.0371  ...   \n",
       "\n",
       "   valence_yr  popularity_yr  mode  key_0_yr  key_1_yr  key_2_yr  key_3_yr  \\\n",
       "0    0.583424      35.272231     1         0         0         1         0   \n",
       "1    0.432251       3.672500     1         1         0         0         0   \n",
       "2    0.447291       7.707000     1         0         0         0         1   \n",
       "3    0.447291       7.707000     1         0         0         0         1   \n",
       "4    0.443625       3.419500     1         1         0         0         0   \n",
       "\n",
       "   key_4_yr  key_5_yr  key_6_yr  \n",
       "0         0         0         0  \n",
       "1         0         0         0  \n",
       "2         0         0         0  \n",
       "3         0         0         0  \n",
       "4         0         0         0  \n",
       "\n",
       "[5 rows x 72 columns]"
      ]
     },
     "execution_count": 3,
     "metadata": {},
     "output_type": "execute_result"
    }
   ],
   "source": [
    "df.head()"
   ]
  },
  {
   "cell_type": "markdown",
   "metadata": {
    "ExecuteTime": {
     "end_time": "2021-04-10T19:44:20.002545Z",
     "start_time": "2021-04-10T19:44:19.907262Z"
    }
   },
   "source": [
    "## Split train and test data"
   ]
  },
  {
   "cell_type": "code",
   "execution_count": 5,
   "metadata": {
    "ExecuteTime": {
     "end_time": "2021-04-10T19:44:20.002545Z",
     "start_time": "2021-04-10T19:44:19.907262Z"
    }
   },
   "outputs": [],
   "source": [
    "X  = df.drop(['popularity', 'mode'], axis=1)\n",
    "y = df['popularity']"
   ]
  },
  {
   "cell_type": "code",
   "execution_count": 6,
   "metadata": {
    "ExecuteTime": {
     "end_time": "2021-04-10T19:44:23.085701Z",
     "start_time": "2021-04-10T19:44:22.957856Z"
    }
   },
   "outputs": [],
   "source": [
    "X_train, X_test, y_train, y_test = train_test_split(X, y, test_size=0.20, stratify=y, random_state=42)"
   ]
  },
  {
   "cell_type": "code",
   "execution_count": 7,
   "metadata": {
    "ExecuteTime": {
     "end_time": "2021-04-10T19:44:24.586225Z",
     "start_time": "2021-04-10T19:44:24.582573Z"
    }
   },
   "outputs": [
    {
     "data": {
      "text/plain": [
       "((137784, 70), (34446, 70))"
      ]
     },
     "execution_count": 7,
     "metadata": {},
     "output_type": "execute_result"
    }
   ],
   "source": [
    "X_train.shape, X_test.shape"
   ]
  },
  {
   "cell_type": "markdown",
   "metadata": {
    "ExecuteTime": {
     "end_time": "2021-03-17T02:58:35.053964Z",
     "start_time": "2021-03-17T02:58:35.050822Z"
    }
   },
   "source": [
    "## Grid Search"
   ]
  },
  {
   "cell_type": "code",
   "execution_count": 10,
   "metadata": {
    "ExecuteTime": {
     "end_time": "2021-03-17T02:58:35.053964Z",
     "start_time": "2021-03-17T02:58:35.050822Z"
    }
   },
   "outputs": [],
   "source": [
    "criterion = ['gini', 'entropy']\n",
    "# max_depth = [2,5,10,15]\n",
    "# min_samples_split = [2,3,4,6,10,15]\n",
    "\n",
    "# max_depth = [10,12,15]\n",
    "# min_samples_split = [6,10,15]\n",
    "\n",
    "# max_depth = [8,10,12]\n",
    "# min_samples_split = [8,10,12]\n",
    "# min_samples_leaf=[1,2,3,4]\n",
    "\n",
    "max_depth = [8,10,12]\n",
    "min_samples_split = [8,10,12]\n",
    "min_samples_leaf=[1,2,3,4]"
   ]
  },
  {
   "cell_type": "code",
   "execution_count": 11,
   "metadata": {
    "ExecuteTime": {
     "end_time": "2021-03-17T02:58:37.318302Z",
     "start_time": "2021-03-17T02:58:37.314119Z"
    }
   },
   "outputs": [],
   "source": [
    "parameters = dict(max_depth=max_depth,\n",
    "                 min_samples_split=min_samples_split,\n",
    "                 min_samples_leaf=min_samples_leaf)"
   ]
  },
  {
   "cell_type": "code",
   "execution_count": 12,
   "metadata": {
    "ExecuteTime": {
     "end_time": "2021-03-17T02:58:39.070119Z",
     "start_time": "2021-03-17T02:58:39.067511Z"
    }
   },
   "outputs": [],
   "source": [
    "tree_clf = DecisionTreeClassifier()\n",
    "# tree_clf.fit(X_train,y_train)"
   ]
  },
  {
   "cell_type": "code",
   "execution_count": 13,
   "metadata": {
    "ExecuteTime": {
     "end_time": "2021-03-17T03:06:48.757400Z",
     "start_time": "2021-03-17T02:58:43.816753Z"
    },
    "scrolled": true
   },
   "outputs": [
    {
     "data": {
      "text/plain": [
       "GridSearchCV(estimator=DecisionTreeClassifier(),\n",
       "             param_grid={'max_depth': [8, 10, 12],\n",
       "                         'min_samples_leaf': [1, 2, 3, 4],\n",
       "                         'min_samples_split': [8, 10, 12]})"
      ]
     },
     "execution_count": 13,
     "metadata": {},
     "output_type": "execute_result"
    }
   ],
   "source": [
    "tree_clf_gs = GridSearchCV(tree_clf, parameters)\n",
    "tree_clf_gs.fit(X_train,y_train)"
   ]
  },
  {
   "cell_type": "markdown",
   "metadata": {
    "ExecuteTime": {
     "end_time": "2021-03-17T03:16:02.304785Z",
     "start_time": "2021-03-17T03:16:02.297791Z"
    }
   },
   "source": [
    "## Best parameters"
   ]
  },
  {
   "cell_type": "code",
   "execution_count": 14,
   "metadata": {
    "ExecuteTime": {
     "end_time": "2021-03-17T03:16:02.304785Z",
     "start_time": "2021-03-17T03:16:02.297791Z"
    }
   },
   "outputs": [
    {
     "name": "stdout",
     "output_type": "stream",
     "text": [
      "Best max_depth: 8\n",
      "Best min_samples_split: 12\n",
      "Best min_samples_leaf: 4\n"
     ]
    }
   ],
   "source": [
    "# print('Best Criterion:', tree_clf_gs.best_estimator_.get_params()['criterion'])\n",
    "print('Best max_depth:', tree_clf_gs.best_estimator_.get_params()['max_depth'])\n",
    "print('Best min_samples_split:', tree_clf_gs.best_estimator_.get_params()['min_samples_split'])\n",
    "print('Best min_samples_leaf:', tree_clf_gs.best_estimator_.get_params()['min_samples_leaf'])\n",
    "# print(); \n",
    "# print(clf_GS.best_estimator_.get_params()['dec_tree'])"
   ]
  },
  {
   "cell_type": "code",
   "execution_count": 15,
   "metadata": {
    "ExecuteTime": {
     "end_time": "2021-03-17T03:16:04.271674Z",
     "start_time": "2021-03-17T03:16:04.262662Z"
    }
   },
   "outputs": [
    {
     "data": {
      "text/plain": [
       "'duration_ms'"
      ]
     },
     "execution_count": 15,
     "metadata": {},
     "output_type": "execute_result"
    }
   ],
   "source": [
    "X_train.columns[2]"
   ]
  },
  {
   "cell_type": "code",
   "execution_count": 8,
   "metadata": {
    "ExecuteTime": {
     "end_time": "2021-04-10T19:45:14.800465Z",
     "start_time": "2021-04-10T19:45:14.321946Z"
    }
   },
   "outputs": [
    {
     "name": "stdout",
     "output_type": "stream",
     "text": [
      "CPU times: user 374 ms, sys: 88 ms, total: 462 ms\n",
      "Wall time: 473 ms\n"
     ]
    },
    {
     "data": {
      "text/plain": [
       "['Saved models/mlspotify_DT']"
      ]
     },
     "execution_count": 8,
     "metadata": {},
     "output_type": "execute_result"
    }
   ],
   "source": [
    "%%time\n",
    "tree_clf = DecisionTreeClassifier(max_depth=10, max_features='auto', criterion='gini', min_samples_leaf=1,\n",
    "                               min_samples_split=12)\n",
    "tree_clf.fit(X_train,y_train)\n",
    "\n",
    "from joblib import dump\n",
    "dump(tree_clf, 'Saved models/mlspotify_DT')"
   ]
  },
  {
   "cell_type": "markdown",
   "metadata": {},
   "source": [
    "## Results"
   ]
  },
  {
   "cell_type": "code",
   "execution_count": 9,
   "metadata": {
    "ExecuteTime": {
     "end_time": "2021-04-10T19:45:19.111487Z",
     "start_time": "2021-04-10T19:45:19.063848Z"
    }
   },
   "outputs": [],
   "source": [
    "y_pred = tree_clf.predict(X_test)"
   ]
  },
  {
   "cell_type": "code",
   "execution_count": 10,
   "metadata": {
    "ExecuteTime": {
     "end_time": "2021-04-10T19:45:21.146218Z",
     "start_time": "2021-04-10T19:45:21.139021Z"
    }
   },
   "outputs": [
    {
     "data": {
      "text/plain": [
       "0.8514486442547756"
      ]
     },
     "execution_count": 10,
     "metadata": {},
     "output_type": "execute_result"
    }
   ],
   "source": [
    "accuracy_score(y_test, y_pred)"
   ]
  },
  {
   "cell_type": "code",
   "execution_count": 11,
   "metadata": {
    "ExecuteTime": {
     "end_time": "2021-04-10T19:45:25.499172Z",
     "start_time": "2021-04-10T19:45:25.380871Z"
    }
   },
   "outputs": [],
   "source": [
    "y_pred_train = tree_clf.predict(X_train)"
   ]
  },
  {
   "cell_type": "code",
   "execution_count": 12,
   "metadata": {
    "ExecuteTime": {
     "end_time": "2021-04-10T19:45:27.241633Z",
     "start_time": "2021-04-10T19:45:27.222885Z"
    }
   },
   "outputs": [
    {
     "data": {
      "text/plain": [
       "0.8573201532834"
      ]
     },
     "execution_count": 12,
     "metadata": {},
     "output_type": "execute_result"
    }
   ],
   "source": [
    "accuracy_score(y_pred_train, y_train)"
   ]
  },
  {
   "cell_type": "code",
   "execution_count": 53,
   "metadata": {},
   "outputs": [
    {
     "name": "stdout",
     "output_type": "stream",
     "text": [
      "41\n"
     ]
    }
   ],
   "source": [
    "print(tree_clf.tree_.max_depth)"
   ]
  },
  {
   "cell_type": "code",
   "execution_count": 13,
   "metadata": {
    "ExecuteTime": {
     "end_time": "2021-04-10T19:45:30.212404Z",
     "start_time": "2021-04-10T19:45:30.113081Z"
    }
   },
   "outputs": [
    {
     "name": "stdout",
     "output_type": "stream",
     "text": [
      "[[23208  2218]\n",
      " [ 2899  6121]]\n",
      "Classification report\n",
      "\n",
      "              precision    recall  f1-score   support\n",
      "\n",
      "           0       0.89      0.91      0.90     25426\n",
      "           1       0.73      0.68      0.71      9020\n",
      "\n",
      "    accuracy                           0.85     34446\n",
      "   macro avg       0.81      0.80      0.80     34446\n",
      "weighted avg       0.85      0.85      0.85     34446\n",
      "\n"
     ]
    }
   ],
   "source": [
    "print(confusion_matrix(y_test, y_pred))\n",
    "print(\"Classification report\\n\")\n",
    "print(classification_report(y_test, y_pred))"
   ]
  },
  {
   "cell_type": "markdown",
   "metadata": {
    "ExecuteTime": {
     "end_time": "2021-04-11T07:37:33.909250Z",
     "start_time": "2021-04-11T07:37:33.860214Z"
    }
   },
   "source": [
    "## Plotting Graphs"
   ]
  },
  {
   "cell_type": "code",
   "execution_count": 15,
   "metadata": {
    "ExecuteTime": {
     "end_time": "2021-04-11T07:37:33.909250Z",
     "start_time": "2021-04-11T07:37:33.860214Z"
    }
   },
   "outputs": [
    {
     "data": {
      "text/plain": [
       "0.900047860728137"
      ]
     },
     "execution_count": 15,
     "metadata": {},
     "output_type": "execute_result"
    }
   ],
   "source": [
    "from sklearn.metrics import roc_curve, roc_auc_score\n",
    "# predict probabilities\n",
    "lr_probs = tree_clf.predict_proba(X_test)\n",
    "# keep probabilities for the positive outcome only\n",
    "lr_probs = lr_probs[:, 1]\n",
    "# calculate scores\n",
    "lr_auc = roc_auc_score(y_test, lr_probs)\n",
    "lr_auc"
   ]
  },
  {
   "cell_type": "code",
   "execution_count": 16,
   "metadata": {
    "ExecuteTime": {
     "end_time": "2021-04-11T07:37:35.518442Z",
     "start_time": "2021-04-11T07:37:35.359288Z"
    }
   },
   "outputs": [
    {
     "data": {
      "image/png": "[encoded data removed]",
      "text/plain": [
       "<Figure size 432x288 with 1 Axes>"
      ]
     },
     "metadata": {
      "needs_background": "light"
     },
     "output_type": "display_data"
    }
   ],
   "source": [
    "from matplotlib import pyplot\n",
    "from numpy import sqrt, argmax, save\n",
    "import numpy as np\n",
    "# calculate roc curves\n",
    "fpr, tpr, thresholds = roc_curve(y_test, lr_probs)\n",
    "np.save(\"fpr_DT\", fpr)\n",
    "np.save(\"tpr_DT\", tpr)\n",
    "# plot the roc curve for the model\n",
    "pyplot.plot([0,1], [0,1], linestyle='--', label='No Skill')\n",
    "pyplot.plot(fpr, tpr, marker='.', label='Logistic')\n",
    "# axis labels\n",
    "pyplot.xlabel('False Positive Rate')\n",
    "pyplot.ylabel('True Positive Rate')\n",
    "pyplot.legend()\n",
    "# show the plot\n",
    "pyplot.show()"
   ]
  },
  {
   "cell_type": "code",
   "execution_count": 17,
   "metadata": {
    "ExecuteTime": {
     "end_time": "2021-04-11T07:37:54.083542Z",
     "start_time": "2021-04-11T07:37:53.913519Z"
    }
   },
   "outputs": [
    {
     "name": "stdout",
     "output_type": "stream",
     "text": [
      "SVM: f1=0.705 auc=0.765\n",
      "0.261859141845207\n"
     ]
    },
    {
     "data": {
      "image/png": "[encoded data removed]",
      "text/plain": [
       "<Figure size 432x288 with 1 Axes>"
      ]
     },
     "metadata": {
      "needs_background": "light"
     },
     "output_type": "display_data"
    }
   ],
   "source": [
    "from sklearn.metrics import auc, precision_recall_curve, f1_score\n",
    "from matplotlib import pyplot\n",
    "lr_precision, lr_recall, thresholds = precision_recall_curve(y_test, lr_probs)\n",
    "np.save(\"lrp_DT\", lr_precision)\n",
    "np.save(\"lrr_DT\", lr_recall)\n",
    "lr_f1, lr_auc = f1_score(y_test, y_pred), auc(lr_recall, lr_precision)\n",
    "# summarize scores\n",
    "print('SVM: f1=%.3f auc=%.3f' % (lr_f1, lr_auc))\n",
    "fscore = (2 * lr_precision * lr_recall) / (lr_precision + lr_recall)\n",
    "# plot the roc curve for the model\n",
    "no_skill = len(y_test[y_test==1]) / len(y_test)\n",
    "print(no_skill)\n",
    "pyplot.plot([0,1], [no_skill,no_skill], linestyle='--', label='No Skill')\n",
    "pyplot.plot(lr_recall, lr_precision, marker='.', label='Logistic')\n",
    "# axis labels\n",
    "pyplot.xlabel('Recall')\n",
    "pyplot.ylabel('Precision')\n",
    "pyplot.legend()\n",
    "# show the plot\n",
    "pyplot.show()"
   ]
  }
 ],
 "metadata": {
  "kernelspec": {
   "display_name": "Python 3",
   "language": "python",
   "name": "python3"
  },
  "language_info": {
   "codemirror_mode": {
    "name": "ipython",
    "version": 3
   },
   "file_extension": ".py",
   "mimetype": "text/x-python",
   "name": "python",
   "nbconvert_exporter": "python",
   "pygments_lexer": "ipython3",
   "version": "3.8.5"
  },
  "toc": {
   "base_numbering": 1,
   "nav_menu": {},
   "number_sections": true,
   "sideBar": true,
   "skip_h1_title": false,
   "title_cell": "Table of Contents",
   "title_sidebar": "Contents",
   "toc_cell": false,
   "toc_position": {},
   "toc_section_display": true,
   "toc_window_display": false
  },
  "varInspector": {
   "cols": {
    "lenName": 16,
    "lenType": 16,
    "lenVar": 40
   },
   "kernels_config": {
    "python": {
     "delete_cmd_postfix": "",
     "delete_cmd_prefix": "del ",
     "library": "var_list.py",
     "varRefreshCmd": "print(var_dic_list())"
    },
    "r": {
     "delete_cmd_postfix": ") ",
     "delete_cmd_prefix": "rm(",
     "library": "var_list.r",
     "varRefreshCmd": "cat(var_dic_list()) "
    }
   },
   "types_to_exclude": [
    "module",
    "function",
    "builtin_function_or_method",
    "instance",
    "_Feature"
   ],
   "window_display": false
  }
 },
 "nbformat": 4,
 "nbformat_minor": 4
}
