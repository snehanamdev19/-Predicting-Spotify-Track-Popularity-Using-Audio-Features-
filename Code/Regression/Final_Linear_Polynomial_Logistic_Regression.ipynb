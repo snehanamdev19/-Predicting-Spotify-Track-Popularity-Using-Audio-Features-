{
 "cells": [
  {
   "cell_type": "markdown",
   "id": "sudden-demographic",
   "metadata": {},
   "source": [
    "### Importing Relevant Things "
   ]
  },
  {
   "cell_type": "code",
   "execution_count": 1,
   "id": "attempted-signal",
   "metadata": {
    "ExecuteTime": {
     "end_time": "2021-04-11T07:41:02.343419Z",
     "start_time": "2021-04-11T07:41:01.700414Z"
    }
   },
   "outputs": [],
   "source": [
    "import pandas as pd\n",
    "import numpy as np\n",
    "from matplotlib import pyplot as plt\n",
    "from sklearn.model_selection import train_test_split, GridSearchCV\n",
    "from sklearn.preprocessing import PolynomialFeatures\n",
    "from sklearn.linear_model import LogisticRegression, LinearRegression\n",
    "from sklearn.metrics import accuracy_score, r2_score, mean_squared_error\n",
    "from sklearn.feature_selection import SelectKBest, VarianceThreshold\n",
    "from sklearn.feature_selection import chi2,mutual_info_classif,f_regression,f_classif\n",
    "from sklearn.metrics import classification_report, confusion_matrix\n",
    "from sklearn.model_selection import cross_val_score"
   ]
  },
  {
   "cell_type": "markdown",
   "id": "fundamental-pocket",
   "metadata": {},
   "source": [
    "### Loading the modified dataset"
   ]
  },
  {
   "cell_type": "code",
   "execution_count": 2,
   "id": "occasional-apollo",
   "metadata": {
    "ExecuteTime": {
     "end_time": "2021-04-11T07:41:05.495465Z",
     "start_time": "2021-04-11T07:41:04.126419Z"
    }
   },
   "outputs": [],
   "source": [
    "df = pd.read_csv('dataset/data_merged.csv')\n",
    "list(df.columns)\n",
    "\n",
    "# Two of the columns containing almost constant values are eliminated because owing to their constant values, \n",
    "# they will not affect the output at all. \n",
    "del df['mode']\n",
    "del df['key_6_yr']\n",
    "#del df['popularity_ar']\n",
    "#del df['popularity_yr']"
   ]
  },
  {
   "cell_type": "code",
   "execution_count": 5,
   "id": "wicked-entrepreneur",
   "metadata": {
    "ExecuteTime": {
     "end_time": "2021-04-10T18:47:08.113095Z",
     "start_time": "2021-04-10T18:47:08.092797Z"
    }
   },
   "outputs": [
    {
     "data": {
      "text/html": [
       "<div>\n",
       "<style scoped>\n",
       "    .dataframe tbody tr th:only-of-type {\n",
       "        vertical-align: middle;\n",
       "    }\n",
       "\n",
       "    .dataframe tbody tr th {\n",
       "        vertical-align: top;\n",
       "    }\n",
       "\n",
       "    .dataframe thead th {\n",
       "        text-align: right;\n",
       "    }\n",
       "</style>\n",
       "<table border=\"1\" class=\"dataframe\">\n",
       "  <thead>\n",
       "    <tr style=\"text-align: right;\">\n",
       "      <th></th>\n",
       "      <th>acousticness</th>\n",
       "      <th>danceability</th>\n",
       "      <th>duration_ms</th>\n",
       "      <th>energy</th>\n",
       "      <th>explicit</th>\n",
       "      <th>instrumentalness</th>\n",
       "      <th>liveness</th>\n",
       "      <th>loudness</th>\n",
       "      <th>popularity</th>\n",
       "      <th>speechiness</th>\n",
       "      <th>...</th>\n",
       "      <th>speechiness_yr</th>\n",
       "      <th>tempo_yr</th>\n",
       "      <th>valence_yr</th>\n",
       "      <th>popularity_yr</th>\n",
       "      <th>key_0_yr</th>\n",
       "      <th>key_1_yr</th>\n",
       "      <th>key_2_yr</th>\n",
       "      <th>key_3_yr</th>\n",
       "      <th>key_4_yr</th>\n",
       "      <th>key_5_yr</th>\n",
       "    </tr>\n",
       "  </thead>\n",
       "  <tbody>\n",
       "    <tr>\n",
       "      <th>0</th>\n",
       "      <td>0.0131</td>\n",
       "      <td>0.2560</td>\n",
       "      <td>182347</td>\n",
       "      <td>0.895</td>\n",
       "      <td>0</td>\n",
       "      <td>0.000106</td>\n",
       "      <td>0.0821</td>\n",
       "      <td>-4.860</td>\n",
       "      <td>29</td>\n",
       "      <td>0.0707</td>\n",
       "      <td>...</td>\n",
       "      <td>0.064961</td>\n",
       "      <td>120.209319</td>\n",
       "      <td>0.583424</td>\n",
       "      <td>35.272231</td>\n",
       "      <td>0</td>\n",
       "      <td>0</td>\n",
       "      <td>1</td>\n",
       "      <td>0</td>\n",
       "      <td>0</td>\n",
       "      <td>0</td>\n",
       "    </tr>\n",
       "    <tr>\n",
       "      <th>1</th>\n",
       "      <td>0.9800</td>\n",
       "      <td>0.2770</td>\n",
       "      <td>206972</td>\n",
       "      <td>0.145</td>\n",
       "      <td>0</td>\n",
       "      <td>0.879000</td>\n",
       "      <td>0.1110</td>\n",
       "      <td>-19.898</td>\n",
       "      <td>0</td>\n",
       "      <td>0.0845</td>\n",
       "      <td>...</td>\n",
       "      <td>0.092591</td>\n",
       "      <td>110.008113</td>\n",
       "      <td>0.432251</td>\n",
       "      <td>3.672500</td>\n",
       "      <td>1</td>\n",
       "      <td>0</td>\n",
       "      <td>0</td>\n",
       "      <td>0</td>\n",
       "      <td>0</td>\n",
       "      <td>0</td>\n",
       "    </tr>\n",
       "    <tr>\n",
       "      <th>2</th>\n",
       "      <td>0.7950</td>\n",
       "      <td>0.6850</td>\n",
       "      <td>314667</td>\n",
       "      <td>0.483</td>\n",
       "      <td>0</td>\n",
       "      <td>0.878000</td>\n",
       "      <td>0.1130</td>\n",
       "      <td>-10.202</td>\n",
       "      <td>1</td>\n",
       "      <td>0.0337</td>\n",
       "      <td>...</td>\n",
       "      <td>0.103243</td>\n",
       "      <td>108.561912</td>\n",
       "      <td>0.447291</td>\n",
       "      <td>7.707000</td>\n",
       "      <td>0</td>\n",
       "      <td>0</td>\n",
       "      <td>0</td>\n",
       "      <td>1</td>\n",
       "      <td>0</td>\n",
       "      <td>0</td>\n",
       "    </tr>\n",
       "    <tr>\n",
       "      <th>3</th>\n",
       "      <td>0.6560</td>\n",
       "      <td>0.7880</td>\n",
       "      <td>179747</td>\n",
       "      <td>0.808</td>\n",
       "      <td>0</td>\n",
       "      <td>0.000000</td>\n",
       "      <td>0.1540</td>\n",
       "      <td>-6.590</td>\n",
       "      <td>0</td>\n",
       "      <td>0.0395</td>\n",
       "      <td>...</td>\n",
       "      <td>0.103243</td>\n",
       "      <td>108.561912</td>\n",
       "      <td>0.447291</td>\n",
       "      <td>7.707000</td>\n",
       "      <td>0</td>\n",
       "      <td>0</td>\n",
       "      <td>0</td>\n",
       "      <td>1</td>\n",
       "      <td>0</td>\n",
       "      <td>0</td>\n",
       "    </tr>\n",
       "    <tr>\n",
       "      <th>4</th>\n",
       "      <td>0.3020</td>\n",
       "      <td>0.0753</td>\n",
       "      <td>498560</td>\n",
       "      <td>0.150</td>\n",
       "      <td>0</td>\n",
       "      <td>0.884000</td>\n",
       "      <td>0.1210</td>\n",
       "      <td>-16.705</td>\n",
       "      <td>0</td>\n",
       "      <td>0.0371</td>\n",
       "      <td>...</td>\n",
       "      <td>0.107351</td>\n",
       "      <td>109.569882</td>\n",
       "      <td>0.443625</td>\n",
       "      <td>3.419500</td>\n",
       "      <td>1</td>\n",
       "      <td>0</td>\n",
       "      <td>0</td>\n",
       "      <td>0</td>\n",
       "      <td>0</td>\n",
       "      <td>0</td>\n",
       "    </tr>\n",
       "  </tbody>\n",
       "</table>\n",
       "<p>5 rows × 70 columns</p>\n",
       "</div>"
      ],
      "text/plain": [
       "   acousticness  danceability  duration_ms  energy  explicit  \\\n",
       "0        0.0131        0.2560       182347   0.895         0   \n",
       "1        0.9800        0.2770       206972   0.145         0   \n",
       "2        0.7950        0.6850       314667   0.483         0   \n",
       "3        0.6560        0.7880       179747   0.808         0   \n",
       "4        0.3020        0.0753       498560   0.150         0   \n",
       "\n",
       "   instrumentalness  liveness  loudness  popularity  speechiness  ...  \\\n",
       "0          0.000106    0.0821    -4.860          29       0.0707  ...   \n",
       "1          0.879000    0.1110   -19.898           0       0.0845  ...   \n",
       "2          0.878000    0.1130   -10.202           1       0.0337  ...   \n",
       "3          0.000000    0.1540    -6.590           0       0.0395  ...   \n",
       "4          0.884000    0.1210   -16.705           0       0.0371  ...   \n",
       "\n",
       "   speechiness_yr    tempo_yr  valence_yr  popularity_yr  key_0_yr  key_1_yr  \\\n",
       "0        0.064961  120.209319    0.583424      35.272231         0         0   \n",
       "1        0.092591  110.008113    0.432251       3.672500         1         0   \n",
       "2        0.103243  108.561912    0.447291       7.707000         0         0   \n",
       "3        0.103243  108.561912    0.447291       7.707000         0         0   \n",
       "4        0.107351  109.569882    0.443625       3.419500         1         0   \n",
       "\n",
       "   key_2_yr  key_3_yr  key_4_yr  key_5_yr  \n",
       "0         1         0         0         0  \n",
       "1         0         0         0         0  \n",
       "2         0         1         0         0  \n",
       "3         0         1         0         0  \n",
       "4         0         0         0         0  \n",
       "\n",
       "[5 rows x 70 columns]"
      ]
     },
     "execution_count": 5,
     "metadata": {},
     "output_type": "execute_result"
    }
   ],
   "source": [
    "df.head()"
   ]
  },
  {
   "cell_type": "markdown",
   "id": "bridal-prison",
   "metadata": {},
   "source": [
    "### Linear Regression"
   ]
  },
  {
   "cell_type": "code",
   "execution_count": 3,
   "id": "spatial-andrew",
   "metadata": {
    "ExecuteTime": {
     "end_time": "2021-04-11T07:41:10.919440Z",
     "start_time": "2021-04-11T07:41:10.837039Z"
    }
   },
   "outputs": [],
   "source": [
    "# Define the feature dataset\n",
    "X = df[df.columns.difference(['popularity'])]\n",
    "\n",
    "# Define the value we want to predict\n",
    "y = df['popularity']"
   ]
  },
  {
   "cell_type": "code",
   "execution_count": 4,
   "id": "simple-founder",
   "metadata": {
    "ExecuteTime": {
     "end_time": "2021-04-11T07:41:12.452850Z",
     "start_time": "2021-04-11T07:41:12.328732Z"
    }
   },
   "outputs": [],
   "source": [
    "# Splitting data in to train and test sets\n",
    "X_train, X_test, y_train, y_test = train_test_split(X, y, test_size=0.2, random_state=42)"
   ]
  },
  {
   "cell_type": "markdown",
   "id": "bigger-database",
   "metadata": {
    "heading_collapsed": true
   },
   "source": [
    "#### Initial Run"
   ]
  },
  {
   "cell_type": "code",
   "execution_count": 7,
   "id": "atlantic-roommate",
   "metadata": {
    "hidden": true,
    "scrolled": true
   },
   "outputs": [
    {
     "name": "stdout",
     "output_type": "stream",
     "text": [
      "\u001b[1mFor Train Data\n",
      "\u001b[0mCoefficient of determination: 0.83094\n",
      "Root mean squared error: 8.98600\n"
     ]
    }
   ],
   "source": [
    "# Train linear regressor\n",
    "lin_reg = LinearRegression().fit(X_train, y_train)\n",
    "\n",
    "# Predict on train data\n",
    "y_pred_training = lin_reg.predict(X_train)\n",
    "\n",
    "# Print r_2 scores and RMSE for training set\n",
    "print('\\033[1mFor Train Data')\n",
    "print('\\033[0mCoefficient of determination: %.5f'\n",
    "      % r2_score(y_train, y_pred_training))\n",
    "print('Root mean squared error: %.5f'\n",
    "      % np.sqrt(mean_squared_error(y_train, y_pred_training)))"
   ]
  },
  {
   "cell_type": "code",
   "execution_count": 8,
   "id": "orange-prophet",
   "metadata": {
    "hidden": true
   },
   "outputs": [
    {
     "name": "stdout",
     "output_type": "stream",
     "text": [
      "\u001b[1mFor Test Data\n",
      "\u001b[0mCoefficient of determination: 0.83090\n",
      "Root Mean squared error: 9.01120\n"
     ]
    }
   ],
   "source": [
    "# Predict on test data\n",
    "y_pred = lin_reg.predict(X_test)\n",
    "\n",
    "# Print r_2 scores and RMSE for test set\n",
    "print('\\033[1mFor Test Data')\n",
    "print('\\033[0mCoefficient of determination: %.5f'\n",
    "      % r2_score(y_test, y_pred))\n",
    "print('Root Mean squared error: %.5f'\n",
    "      % np.sqrt(mean_squared_error(y_test, y_pred)))"
   ]
  },
  {
   "cell_type": "markdown",
   "id": "simplified-shakespeare",
   "metadata": {
    "heading_collapsed": true
   },
   "source": [
    "#### Feature Selection\n",
    "Now, we perform feature selection using the SelectKBest class in sklearn. First, we plot a graph of the co-efficient of determination vs. number of features and see how many features out of 70 we require to retain for sufficient accuracy. "
   ]
  },
  {
   "cell_type": "code",
   "execution_count": 9,
   "id": "authorized-choice",
   "metadata": {
    "hidden": true
   },
   "outputs": [],
   "source": [
    "r_2scores = []\n",
    "rmse = []\n",
    "\n",
    "for i in range(1,68):\n",
    "    EX = SelectKBest(f_regression, k =i).fit_transform(X,y)\n",
    "    X_train, X_test, y_train, y_test = train_test_split(EX, y, test_size=0.2, random_state=42)\n",
    "    lin_reg = LinearRegression().fit(X_train, y_train)\n",
    "    y_pred = lin_reg.predict(X_test)\n",
    "    rmse.append(np.sqrt(mean_squared_error(y_test, y_pred)))\n",
    "    r_2scores.append(r2_score(y_test, y_pred))"
   ]
  },
  {
   "cell_type": "code",
   "execution_count": 10,
   "id": "accredited-pittsburgh",
   "metadata": {
    "hidden": true
   },
   "outputs": [
    {
     "data": {
      "image/png": "[encoded data removed]",
      "text/plain": [
       "<Figure size 936x576 with 1 Axes>"
      ]
     },
     "metadata": {},
     "output_type": "display_data"
    },
    {
     "data": {
      "image/png": "[encoded data removed]",
      "text/plain": [
       "<Figure size 936x576 with 1 Axes>"
      ]
     },
     "metadata": {},
     "output_type": "display_data"
    }
   ],
   "source": [
    "plt.figure(figsize = (13,8))\n",
    "plt.plot(r_2scores)\n",
    "plt.xlabel(\"Features\")\n",
    "plt.ylabel(\"Co-efficient of Determination\")\n",
    "plt.savefig('r2_score.png', pad_inches=0)\n",
    "plt.show()\n",
    "\n",
    "plt.figure(figsize = (13,8))\n",
    "plt.plot(rmse)\n",
    "plt.xlabel(\"Features\")\n",
    "plt.ylabel(\"Root Mean Squared Error\")\n",
    "plt.savefig('rmse.png', pad_inches=0)\n",
    "plt.show()"
   ]
  },
  {
   "cell_type": "markdown",
   "id": "detected-nerve",
   "metadata": {
    "heading_collapsed": true
   },
   "source": [
    "#### Final Run\n",
    "\n",
    "We see a clear jump in accuracy for the first few features after which the $r_2$ scores plateau. We pick $k = 27$ to be a fair number of features for linear regression after which the gain in accuracy is not worth the computing cost."
   ]
  },
  {
   "cell_type": "code",
   "execution_count": 11,
   "id": "egyptian-sydney",
   "metadata": {
    "hidden": true
   },
   "outputs": [
    {
     "name": "stdout",
     "output_type": "stream",
     "text": [
      "\u001b[1mFor Train Data\n",
      "\u001b[0mCoefficient of determination: 0.82910\n",
      "Root mean squared error: 9.03496\n"
     ]
    }
   ],
   "source": [
    "X_final = SelectKBest(f_regression, k =27).fit_transform(X,y)\n",
    "X_train, X_test, y_train, y_test = train_test_split(X_final, y, test_size=0.2, random_state=42)\n",
    "\n",
    "# Train linear regressor\n",
    "lin_reg = LinearRegression().fit(X_train, y_train)\n",
    "\n",
    "# Predict on train data\n",
    "y_pred_training = lin_reg.predict(X_train)\n",
    "\n",
    "# Print r_2 scores and RMSE for training set\n",
    "print('\\033[1mFor Train Data')\n",
    "print('\\033[0mCoefficient of determination: %.5f'\n",
    "      % r2_score(y_train, y_pred_training))\n",
    "print('Root mean squared error: %.5f'\n",
    "      % np.sqrt(mean_squared_error(y_train, y_pred_training)))"
   ]
  },
  {
   "cell_type": "code",
   "execution_count": 12,
   "id": "difficult-mozambique",
   "metadata": {
    "hidden": true
   },
   "outputs": [
    {
     "name": "stdout",
     "output_type": "stream",
     "text": [
      "\u001b[1mFor Test Data\n",
      "\u001b[0mCoefficient of determination: 0.82924\n",
      "Root Mean squared error: 9.05530\n"
     ]
    }
   ],
   "source": [
    "# Predicting on test data\n",
    "y_pred = lin_reg.predict(X_test)\n",
    "\n",
    "# Print r_2 scores and RMSE for test set\n",
    "print('\\033[1mFor Test Data')\n",
    "print('\\033[0mCoefficient of determination: %.5f'\n",
    "      % r2_score(y_test, y_pred))\n",
    "print('Root Mean squared error: %.5f'\n",
    "      % np.sqrt(mean_squared_error(y_test, y_pred)))"
   ]
  },
  {
   "cell_type": "markdown",
   "id": "constant-council",
   "metadata": {
    "heading_collapsed": true
   },
   "source": [
    "### Polynomial Regression"
   ]
  },
  {
   "cell_type": "code",
   "execution_count": 13,
   "id": "imperial-stockholm",
   "metadata": {
    "hidden": true
   },
   "outputs": [
    {
     "name": "stdout",
     "output_type": "stream",
     "text": [
      "\u001b[1mFor Train Data\n",
      "\u001b[0mCoefficient of determination: 0.84335\n",
      "Mean squared error: 8.64992\n",
      "\u001b[1mFor Test Data\n",
      "\u001b[0mCoefficient of determination: 0.84261\n",
      "Mean squared error: 8.69362\n"
     ]
    }
   ],
   "source": [
    "# Specify the degree of polynomial features\n",
    "\n",
    "poly = PolynomialFeatures(degree=2) # Degree 3 needs more RAM to run than is available. \n",
    "X_poly = poly.fit_transform(X_final)\n",
    "\n",
    "# Split dataset in to train and test data\n",
    "X_train1, X_test1, y_train1, y_test1 = train_test_split(X_poly, y, test_size=0.2, random_state = 42)\n",
    "\n",
    "# Train polynomial regressor\n",
    "poly_reg = LinearRegression().fit(X_train1, y_train1)\n",
    "\n",
    "# Predict for train set\n",
    "y_pred_train = poly_reg.predict(X_train1)\n",
    "print('\\033[1mFor Train Data')\n",
    "print('\\033[0mCoefficient of determination: %.5f'\n",
    "      % r2_score(y_train1, y_pred_train))\n",
    "print('Mean squared error: %.5f'\n",
    "      % np.sqrt(mean_squared_error(y_train1, y_pred_train)))\n",
    "\n",
    "# Predict for test data\n",
    "y_pred1 = poly_reg.predict(X_test1)\n",
    "print('\\033[1mFor Test Data')\n",
    "print('\\033[0mCoefficient of determination: %.5f'\n",
    "      % r2_score(y_test1, y_pred1))\n",
    "print('Mean squared error: %.5f'\n",
    "      % np.sqrt(mean_squared_error(y_test1, y_pred1)))"
   ]
  },
  {
   "cell_type": "markdown",
   "id": "successful-stanley",
   "metadata": {
    "hidden": true
   },
   "source": [
    "The improvement here is of $~0.1\\ \\%$ compared to linear regression with no polynomial features. "
   ]
  },
  {
   "cell_type": "markdown",
   "id": "noble-birthday",
   "metadata": {},
   "source": [
    "###  Logistic Regression"
   ]
  },
  {
   "cell_type": "code",
   "execution_count": 5,
   "id": "sorted-serum",
   "metadata": {
    "ExecuteTime": {
     "end_time": "2021-04-11T07:41:27.370776Z",
     "start_time": "2021-04-11T07:41:26.670495Z"
    }
   },
   "outputs": [],
   "source": [
    "# Changing our output from a continuous value to two labels: 1 if the song is popular, 0 if the song isn't.\n",
    "# The threshold is selected using data from billboard chart data. \n",
    "y_log = pd.cut(x=df[\"popularity\"], bins=[-1,42,100], labels=[0,1]) ## Threshold can be either 50 or 26 (mean)\n",
    "\n",
    "# Manually varying k again leads to plateau in accuracy scores after around k=27.\n",
    "X_log = SelectKBest(f_classif, k=27).fit_transform(X, y_log)"
   ]
  },
  {
   "cell_type": "code",
   "execution_count": 6,
   "id": "statutory-brunei",
   "metadata": {
    "ExecuteTime": {
     "end_time": "2021-04-11T07:41:35.746076Z",
     "start_time": "2021-04-11T07:41:33.048791Z"
    }
   },
   "outputs": [
    {
     "name": "stdout",
     "output_type": "stream",
     "text": [
      "\u001b[1mClassification Report\n",
      "\u001b[0m\n",
      "              precision    recall  f1-score   support\n",
      "\n",
      "           0       0.90      0.94      0.92     25942\n",
      "           1       0.80      0.70      0.74      8504\n",
      "\n",
      "    accuracy                           0.88     34446\n",
      "   macro avg       0.85      0.82      0.83     34446\n",
      "weighted avg       0.88      0.88      0.88     34446\n",
      "\n",
      "\u001b[1mConfusion Matrix\n",
      "\u001b[0m\n",
      "[[24434  1508]\n",
      " [ 2592  5912]]\n"
     ]
    }
   ],
   "source": [
    "X_train2, X_test2, y_train2, y_test2 = train_test_split(X_log, y_log, test_size=0.2, random_state=42)\n",
    "log_clf = LogisticRegression(random_state=42).fit(X_train2, y_train2)\n",
    "\n",
    "from joblib import dump\n",
    "dump(log_clf, \"mlspotify_LogR\")\n",
    "\n",
    "y_pred2 = log_clf.predict(X_test2)\n",
    "\n",
    "print('\\033[1mClassification Report')\n",
    "print('\\033[0m')\n",
    "print(classification_report(y_test2, y_pred2))\n",
    "\n",
    "print('\\033[1mConfusion Matrix')\n",
    "print('\\033[0m')\n",
    "print(confusion_matrix(y_test2, y_pred2))"
   ]
  },
  {
   "cell_type": "code",
   "execution_count": 10,
   "id": "controversial-connection",
   "metadata": {
    "ExecuteTime": {
     "end_time": "2021-04-11T07:42:29.723796Z",
     "start_time": "2021-04-11T07:42:29.655310Z"
    }
   },
   "outputs": [
    {
     "data": {
      "text/plain": [
       "0.929487800432298"
      ]
     },
     "execution_count": 10,
     "metadata": {},
     "output_type": "execute_result"
    }
   ],
   "source": [
    "from sklearn.metrics import roc_curve, roc_auc_score\n",
    "# predict probabilities\n",
    "lr_probs = log_clf.predict_proba(X_test2)\n",
    "# keep probabilities for the positive outcome only\n",
    "lr_probs = lr_probs[:, 1]\n",
    "# calculate scores\n",
    "lr_auc = roc_auc_score(y_test2, lr_probs)\n",
    "lr_auc"
   ]
  },
  {
   "cell_type": "code",
   "execution_count": 11,
   "id": "subjective-control",
   "metadata": {
    "ExecuteTime": {
     "end_time": "2021-04-11T07:42:55.125743Z",
     "start_time": "2021-04-11T07:42:54.965563Z"
    }
   },
   "outputs": [
    {
     "data": {
      "image/png": "[encoded data removed]",
      "text/plain": [
       "<Figure size 432x288 with 1 Axes>"
      ]
     },
     "metadata": {
      "needs_background": "light"
     },
     "output_type": "display_data"
    }
   ],
   "source": [
    "from matplotlib import pyplot\n",
    "from numpy import sqrt, argmax, save\n",
    "import numpy as np\n",
    "# calculate roc curves\n",
    "fpr, tpr, thresholds = roc_curve(y_test2, lr_probs)\n",
    "np.save(\"fpr_LR\", fpr)\n",
    "np.save(\"tpr_LR\", tpr)\n",
    "# plot the roc curve for the model\n",
    "pyplot.plot([0,1], [0,1], linestyle='--', label='No Skill')\n",
    "pyplot.plot(fpr, tpr, marker='.', label='Logistic')\n",
    "# axis labels\n",
    "pyplot.xlabel('False Positive Rate')\n",
    "pyplot.ylabel('True Positive Rate')\n",
    "pyplot.legend()\n",
    "# show the plot\n",
    "pyplot.show()"
   ]
  },
  {
   "cell_type": "code",
   "execution_count": 12,
   "id": "boring-episode",
   "metadata": {
    "ExecuteTime": {
     "end_time": "2021-04-11T07:43:38.031300Z",
     "start_time": "2021-04-11T07:43:37.846704Z"
    }
   },
   "outputs": [
    {
     "name": "stdout",
     "output_type": "stream",
     "text": [
      "SVM: f1=0.743 auc=0.844\n",
      "0.24687917319862973\n"
     ]
    },
    {
     "data": {
      "image/png": "[encoded data removed]",
      "text/plain": [
       "<Figure size 432x288 with 1 Axes>"
      ]
     },
     "metadata": {
      "needs_background": "light"
     },
     "output_type": "display_data"
    }
   ],
   "source": [
    "from sklearn.metrics import auc, precision_recall_curve, f1_score\n",
    "from matplotlib import pyplot\n",
    "lr_precision, lr_recall, thresholds = precision_recall_curve(y_test2, lr_probs)\n",
    "np.save(\"lrp_LR\", lr_precision)\n",
    "np.save(\"lrr_LR\", lr_recall)\n",
    "lr_f1, lr_auc = f1_score(y_test2, y_pred2), auc(lr_recall, lr_precision)\n",
    "# summarize scores\n",
    "print('SVM: f1=%.3f auc=%.3f' % (lr_f1, lr_auc))\n",
    "fscore = (2 * lr_precision * lr_recall) / (lr_precision + lr_recall)\n",
    "# plot the roc curve for the model\n",
    "no_skill = len(y_test2[y_test2==1]) / len(y_test2)\n",
    "print(no_skill)\n",
    "pyplot.plot([0,1], [no_skill,no_skill], linestyle='--', label='No Skill')\n",
    "pyplot.plot(lr_recall, lr_precision, marker='.', label='Logistic')\n",
    "# axis labels\n",
    "pyplot.xlabel('Recall')\n",
    "pyplot.ylabel('Precision')\n",
    "pyplot.legend()\n",
    "# show the plot\n",
    "pyplot.show()"
   ]
  }
 ],
 "metadata": {
  "kernelspec": {
   "display_name": "ML_Spotify",
   "language": "python",
   "name": "ml_spotify"
  },
  "language_info": {
   "codemirror_mode": {
    "name": "ipython",
    "version": 3
   },
   "file_extension": ".py",
   "mimetype": "text/x-python",
   "name": "python",
   "nbconvert_exporter": "python",
   "pygments_lexer": "ipython3",
   "version": "3.9.2"
  },
  "toc": {
   "base_numbering": 1,
   "nav_menu": {},
   "number_sections": true,
   "sideBar": true,
   "skip_h1_title": false,
   "title_cell": "Table of Contents",
   "title_sidebar": "Contents",
   "toc_cell": false,
   "toc_position": {},
   "toc_section_display": true,
   "toc_window_display": false
  },
  "varInspector": {
   "cols": {
    "lenName": 16,
    "lenType": 16,
    "lenVar": 40
   },
   "kernels_config": {
    "python": {
     "delete_cmd_postfix": "",
     "delete_cmd_prefix": "del ",
     "library": "var_list.py",
     "varRefreshCmd": "print(var_dic_list())"
    },
    "r": {
     "delete_cmd_postfix": ") ",
     "delete_cmd_prefix": "rm(",
     "library": "var_list.r",
     "varRefreshCmd": "cat(var_dic_list()) "
    }
   },
   "types_to_exclude": [
    "module",
    "function",
    "builtin_function_or_method",
    "instance",
    "_Feature"
   ],
   "window_display": false
  }
 },
 "nbformat": 4,
 "nbformat_minor": 5
}
